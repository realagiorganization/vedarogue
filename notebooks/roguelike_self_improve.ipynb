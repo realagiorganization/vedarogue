{
  "cells": [
    {
      "cell_type": "markdown",
      "metadata": {},
      "source": [
        "# Roguelike DSPy Self-Improvement\n",
        "This notebook generates a roguelike YAML from verses, then attempts a simple self-improvement loop.\n",
        "If `OPENAI_API_KEY` is provided, DSPy uses the configured model; otherwise a deterministic fallback is used."
      ]
    },
    {
      "cell_type": "code",
      "execution_count": null,
      "metadata": {},
      "outputs": [],
      "source": [
        "import os, json, yaml, subprocess, pathlib, sys\n",
        "# Project paths\n",
        "ROOT = pathlib.Path('.').resolve().parent\n",
        "sys.path.insert(0, str(ROOT))\n",
        "B = ROOT / 'build'\n",
        "from rl_dspy.roguelike_generator import RoguelikeGenerator\n",
        "\n",
        "B.mkdir(parents=True, exist_ok=True)\n",
        "# Ensure a small slice of verses exists\n",
        "subprocess.run(\"python3 ../scripts/hf_export_json.py --splits 'train[:6]' --out ../build/verses.json\", shell=True, check=True)\n",
        "rows = json.loads((B / 'verses.json').read_text())\n",
        "print('rows:', len(rows))\n"
      ]
    },
    {
      "cell_type": "code",
      "execution_count": null,
      "metadata": {},
      "outputs": [],
      "source": [
        "# Baseline generation\n",
        "gen = RoguelikeGenerator()\n",
        "baseline_yaml = gen.generate_yaml(rows[:4], guidelines='baseline')\n",
        "(B / 'roguelike.baseline.yaml').write_text(baseline_yaml)\n",
        "print('baseline saved')\n",
        "print(baseline_yaml.splitlines()[0:8])\n"
      ]
    },
    {
      "cell_type": "code",
      "execution_count": null,
      "metadata": {},
      "outputs": [],
      "source": [
        "# Simple self-improvement: adjust guidelines and regenerate\n",
        "guidelines = (\n",
        "    'Add at least 6 items and 3 dialogs; ',\n",
        "    'provide a more varied map with rooms and corridors; ',\n",
        "    'keep YAML schema exactly. ',\n",
        ")\n",
        "guidelines = ''.join(guidelines)\n",
        "improved_yaml = gen.generate_yaml(rows[:6], guidelines=guidelines)\n",
        "(B / 'roguelike.improved.yaml').write_text(improved_yaml)\n",
        "print('improved saved')\n",
        "print(improved_yaml.splitlines()[0:8])\n"
      ]
    }
  ],
  "metadata": {
    "kernelspec": {
      "display_name": "Python 3",
      "language": "python",
      "name": "python3"
    },
    "language_info": {
      "name": "python",
      "pygments_lexer": "ipython3"
    }
  },
  "nbformat": 4,
  "nbformat_minor": 5
}
